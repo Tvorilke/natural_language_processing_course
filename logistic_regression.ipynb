{
 "cells": [
  {
   "cell_type": "code",
   "execution_count": 1,
   "metadata": {},
   "outputs": [],
   "source": [
    "from lxml import etree"
   ]
  },
  {
   "cell_type": "code",
   "execution_count": 2,
   "metadata": {},
   "outputs": [],
   "source": [
    "from typing import List, Tuple"
   ]
  },
  {
   "cell_type": "code",
   "execution_count": 3,
   "metadata": {},
   "outputs": [],
   "source": [
    "def load_sentirueval_2016(file_name: str) -> Tuple[List[str], List[str]]:\n",
    "    texts = []\n",
    "    labels = []\n",
    "    with open(file_name, mode='rb') as fp:\n",
    "        xml_data = fp.read()\n",
    "    root = etree.fromstring(xml_data)\n",
    "    for database in root.getchildren():\n",
    "        if database.tag == 'database':\n",
    "            for table in database.getchildren():\n",
    "                if table.tag != 'table':\n",
    "                    continue\n",
    "                new_text = None\n",
    "                new_label = None\n",
    "                for column in table.getchildren():\n",
    "                    if column.get('name') == 'text':\n",
    "                        new_text = str(column.text).strip()\n",
    "                        if new_label is not None:\n",
    "                            break\n",
    "                    elif column.get('name') not in {'id', 'twitid', 'date'}:\n",
    "                        if new_label is None:\n",
    "                            label_candidate = str(column.text).strip()\n",
    "                            if label_candidate in {'0', '1', '-1'}:\n",
    "                                new_label = 'negative' if label_candidate == '-1' else \\\n",
    "                                    ('positive' if label_candidate == '1' else 'neutral')\n",
    "                                if new_text is not None:\n",
    "                                    break\n",
    "                if (new_text is None) or (new_label is None):\n",
    "                    raise ValueError('File `{0}` contains some error!'.format(file_name))\n",
    "                texts.append(new_text)\n",
    "                labels.append(new_label)\n",
    "            break\n",
    "    return texts, labels"
   ]
  },
  {
   "cell_type": "code",
   "execution_count": 4,
   "metadata": {},
   "outputs": [],
   "source": [
    "texts, labels = load_sentirueval_2016('bank_train_2016.xml')"
   ]
  },
  {
   "cell_type": "code",
   "execution_count": 5,
   "metadata": {},
   "outputs": [
    {
     "name": "stdout",
     "output_type": "stream",
     "text": [
      "Number of texts is 9392, number of labels is 9392.\n"
     ]
    }
   ],
   "source": [
    "print('Number of texts is {0}, number of labels is {1}.'.format(len(texts), len(labels)))"
   ]
  },
  {
   "cell_type": "code",
   "execution_count": 6,
   "metadata": {},
   "outputs": [],
   "source": [
    "import random"
   ]
  },
  {
   "cell_type": "code",
   "execution_count": 7,
   "metadata": {},
   "outputs": [
    {
     "name": "stdout",
     "output_type": "stream",
     "text": [
      "neutral => ипотека на строительство дома сбербанк http://t.co/MHqYGR9TRp\n",
      "neutral => Умница дочка: Банк ВТБ (Азербайджан): http://t.co/dutDRGHmGH с помощью @YouTube\n",
      "neutral => Новокузнецк сбербанк россии условия автокредитования http://t.co/nAHg6d8HdR\n",
      "neutral => http://t.co/heeR3dbikM Оформить кредитную карту альфа банка\n",
      "neutral => #сбербанк бизнес онлайн вход в систему http://t.co/BQilQ5Zlft\n",
      "neutral => С ипатекой сбербанка.. http://t.co/qIkDLCHPqv\n",
      "negative => @Vinokurov12 @navalny http://t.co/b8CL3Lq7LS сбер попал под ЕС\n",
      "neutral => Сбербанк и \"ВТБ 24\" выплатят возмещения вкладчикам Мастер-банка\n",
      "neutral => кредит в сбербанке без поручителей http://t.co/Xe6dflVGDN\n",
      "neutral => кредитная карта альфа банк вишня http://t.co/gxKtTpvdr8\n",
      "neutral => Банк втб 24 потребительский кредит отзывы http://t.co/FlNWU9Zoha\n",
      "neutral => В ноябре Сбербанк выдал вологжанам кредитов на сумму 1,75 млрд. рублей\n",
      "neutral => 300000 в кредит в сбербанке http://t.co/IQcVn26dBv\n",
      "negative => БИЛЕТ РЖД КУПЛЕННЫЙ ЧЕРЕЗ МЕГАФОНОВСКИЙ ИНТЕРНЕТ КАРТОЧКОЙ СБЕРБАНКА С ДОСТАВКОЙ ПОЧТОЙ РОССИИ ОТКРЫВАЕТ ВРАТА В АД\n",
      "neutral => http://t.co/71whamY6sa втб 24 потребительский кредит под залог недвижимости\n",
      "neutral => RT @Zhekan_ukrop: Сбербанк http://t.co/EXsnnoPMYe\n",
      "neutral => Зампред правления Сбербанка: банк ожидает понижения ставок по кредитам в 2014 году #news\n",
      "neutral => Оплатить хоум кредит через сбербанк http://t.co/ZDMBjEPggd\n",
      "neutral => Решением Наблюдательного совета ОАО Банк ВТБ (Азербайджан) Юрий Яковлев назначен на должность председателя правления.\n",
      "\n",
      "Новый руководитель п\n",
      "neutral => Кредитные карты газпромбанка заказ он лайн http://t.co/1Az9vBV5Oz\n"
     ]
    }
   ],
   "source": [
    "for idx in random.choices(list(range(len(texts))), k=20):\n",
    "    print('{0} => {1}'.format(labels[idx], texts[idx]))"
   ]
  },
  {
   "cell_type": "code",
   "execution_count": 8,
   "metadata": {},
   "outputs": [],
   "source": [
    "positive_tweets = [texts[idx] for idx in range(len(texts)) if labels[idx] == 'positive']\n",
    "negative_tweets = [texts[idx] for idx in range(len(texts)) if labels[idx] == 'negative']"
   ]
  },
  {
   "cell_type": "code",
   "execution_count": 9,
   "metadata": {},
   "outputs": [
    {
     "name": "stdout",
     "output_type": "stream",
     "text": [
      "@sawik_shuster @YevhenS Главное чтоб банки СБЕР и ВТБ!!!\n",
      "Самый выгодный автокредит в втб 24 http://t.co/CDJ5P40x7g\n",
      "http://t.co/h6r6GdBe4H Легко можно получить денежный кредит ы втб 24 банке\n",
      "Снижение процентной ставки по кредиту на недвижимость сбербанк http://t.co/MredO898wK\n",
      "В наш сбербанк пришел американец и попросил сфоткаться с ним у банкомата ;D \n",
      "я ваще была в шоке и на фотке полюбому получилась смешная xD\n"
     ]
    }
   ],
   "source": [
    "for cur in positive_tweets[:5]: print(cur)"
   ]
  },
  {
   "cell_type": "code",
   "execution_count": 10,
   "metadata": {},
   "outputs": [
    {
     "name": "stdout",
     "output_type": "stream",
     "text": [
      "@ShtirliZ_ @Zhukova_olga @winzard @tereshenkov обязательно про сбербанк напишите! Временами похлеще интернет магазинов финты выкручивает)\n",
      "@Umka_75 @Alfarius2012 @igor_sechin втб и сбер точно. вопрос-блокировка операций или запрет на кредиты?\n",
      "Канада ввела санкции против Газпромбанка, ВЭБа, Новатэка и российских оборонных компаний\n",
      "RT @letokot: Если Сбер и ВТБ попали под санкции, будет жопа\n",
      "RT @360_tv_ru: #Канада ввела санкции против 10 оборонных и сырьевых компаний и банков #РФ. Среди них, в частности, \"#Газпромбанк\", \"#Внешэк…\n"
     ]
    }
   ],
   "source": [
    "for cur in negative_tweets[:5]: print(cur)"
   ]
  },
  {
   "cell_type": "code",
   "execution_count": 11,
   "metadata": {},
   "outputs": [],
   "source": [
    "from nltk import word_tokenize"
   ]
  },
  {
   "cell_type": "code",
   "execution_count": 12,
   "metadata": {},
   "outputs": [],
   "source": [
    "from sklearn.feature_extraction.text import CountVectorizer"
   ]
  },
  {
   "cell_type": "code",
   "execution_count": 13,
   "metadata": {},
   "outputs": [],
   "source": [
    "vectorizer = CountVectorizer(lowercase=True, tokenizer=word_tokenize)"
   ]
  },
  {
   "cell_type": "code",
   "execution_count": 14,
   "metadata": {},
   "outputs": [
    {
     "data": {
      "text/plain": [
       "CountVectorizer(analyzer='word', binary=False, decode_error='strict',\n",
       "                dtype=<class 'numpy.int64'>, encoding='utf-8', input='content',\n",
       "                lowercase=True, max_df=1.0, max_features=None, min_df=1,\n",
       "                ngram_range=(1, 1), preprocessor=None, stop_words=None,\n",
       "                strip_accents=None, token_pattern='(?u)\\\\b\\\\w\\\\w+\\\\b',\n",
       "                tokenizer=<function word_tokenize at 0x7f0325187950>,\n",
       "                vocabulary=None)"
      ]
     },
     "execution_count": 14,
     "metadata": {},
     "output_type": "execute_result"
    }
   ],
   "source": [
    "vectorizer.fit(texts)"
   ]
  },
  {
   "cell_type": "code",
   "execution_count": 15,
   "metadata": {},
   "outputs": [
    {
     "name": "stdout",
     "output_type": "stream",
     "text": [
      "['!', '#', '$', '%', '&', \"''\", '(', ')', '*^____^*', '*бесится*', '*трипл-смайлик-крик-мунка*', '+', '+3,49', '+300', '+5тыс', '+74955102933', '+в', ',', '-', '--']\n"
     ]
    }
   ],
   "source": [
    "print(vectorizer.get_feature_names()[0:20])"
   ]
  },
  {
   "cell_type": "code",
   "execution_count": 16,
   "metadata": {},
   "outputs": [
    {
     "name": "stdout",
     "output_type": "stream",
     "text": [
      "20240\n"
     ]
    }
   ],
   "source": [
    "print(len(vectorizer.get_feature_names()))"
   ]
  },
  {
   "cell_type": "code",
   "execution_count": 17,
   "metadata": {},
   "outputs": [],
   "source": [
    "X = vectorizer.transform(texts)"
   ]
  },
  {
   "cell_type": "code",
   "execution_count": 18,
   "metadata": {},
   "outputs": [
    {
     "name": "stdout",
     "output_type": "stream",
     "text": [
      "<class 'scipy.sparse.csr.csr_matrix'>\n"
     ]
    }
   ],
   "source": [
    "print(type(X))"
   ]
  },
  {
   "cell_type": "code",
   "execution_count": 19,
   "metadata": {},
   "outputs": [
    {
     "name": "stdout",
     "output_type": "stream",
     "text": [
      "http://t.co/YEVHuvVGA1 Взять кредит тюмень альфа банк\n"
     ]
    }
   ],
   "source": [
    "print(texts[0])"
   ]
  },
  {
   "cell_type": "code",
   "execution_count": 20,
   "metadata": {},
   "outputs": [
    {
     "name": "stdout",
     "output_type": "stream",
     "text": [
      "  (0, 6321)\t1\n",
      "  (0, 7199)\t1\n",
      "  (0, 7775)\t1\n",
      "  (0, 9093)\t1\n",
      "  (0, 9295)\t1\n",
      "  (0, 9866)\t1\n",
      "  (0, 12802)\t1\n",
      "  (0, 19056)\t1\n"
     ]
    }
   ],
   "source": [
    "print(X[0])"
   ]
  },
  {
   "cell_type": "code",
   "execution_count": 21,
   "metadata": {},
   "outputs": [
    {
     "name": "stdout",
     "output_type": "stream",
     "text": [
      "//t.co/yevhuvvga1\n"
     ]
    }
   ],
   "source": [
    "print(vectorizer.get_feature_names()[6321])"
   ]
  },
  {
   "cell_type": "code",
   "execution_count": 22,
   "metadata": {},
   "outputs": [
    {
     "name": "stdout",
     "output_type": "stream",
     "text": [
      "взять\n"
     ]
    }
   ],
   "source": [
    "print(vectorizer.get_feature_names()[9866])"
   ]
  },
  {
   "cell_type": "code",
   "execution_count": 23,
   "metadata": {},
   "outputs": [
    {
     "name": "stdout",
     "output_type": "stream",
     "text": [
      "тюмень\n"
     ]
    }
   ],
   "source": [
    "print(vectorizer.get_feature_names()[19056])"
   ]
  },
  {
   "cell_type": "code",
   "execution_count": 24,
   "metadata": {},
   "outputs": [],
   "source": [
    "from sklearn.feature_extraction.text import TfidfTransformer"
   ]
  },
  {
   "cell_type": "code",
   "execution_count": 25,
   "metadata": {},
   "outputs": [],
   "source": [
    "transformer = TfidfTransformer().fit(X)"
   ]
  },
  {
   "cell_type": "code",
   "execution_count": 26,
   "metadata": {},
   "outputs": [],
   "source": [
    "X_transformed = transformer.transform(X)"
   ]
  },
  {
   "cell_type": "code",
   "execution_count": 27,
   "metadata": {},
   "outputs": [
    {
     "name": "stdout",
     "output_type": "stream",
     "text": [
      "  (0, 19056)\t0.5196718117883131\n",
      "  (0, 12802)\t0.1747696254947399\n",
      "  (0, 9866)\t0.2815105414658593\n",
      "  (0, 9295)\t0.20532647450968283\n",
      "  (0, 9093)\t0.26133302396332425\n",
      "  (0, 7775)\t0.10105244280985996\n",
      "  (0, 7199)\t0.09241698661915439\n",
      "  (0, 6321)\t0.7006726731639271\n"
     ]
    }
   ],
   "source": [
    "print(X_transformed[0])"
   ]
  },
  {
   "cell_type": "code",
   "execution_count": 28,
   "metadata": {},
   "outputs": [
    {
     "name": "stdout",
     "output_type": "stream",
     "text": [
      "тюмень\n"
     ]
    }
   ],
   "source": [
    "print(vectorizer.get_feature_names()[19056])"
   ]
  },
  {
   "cell_type": "code",
   "execution_count": 29,
   "metadata": {},
   "outputs": [
    {
     "name": "stdout",
     "output_type": "stream",
     "text": [
      ":\n"
     ]
    }
   ],
   "source": [
    "print(vectorizer.get_feature_names()[7199])"
   ]
  },
  {
   "cell_type": "code",
   "execution_count": 30,
   "metadata": {},
   "outputs": [],
   "source": [
    "tokens_with_IDF = list(zip(vectorizer.get_feature_names(), transformer.idf_))"
   ]
  },
  {
   "cell_type": "code",
   "execution_count": 31,
   "metadata": {},
   "outputs": [
    {
     "name": "stdout",
     "output_type": "stream",
     "text": [
      "4.417620 => !\n",
      "3.144655 => #\n",
      "6.276519 => $\n",
      "5.636861 => %\n",
      "5.647910 => &\n",
      "4.134005 => ''\n",
      "4.805386 => (\n",
      "4.443938 => )\n",
      "9.454573 => *^____^*\n",
      "9.454573 => *бесится*\n",
      "9.454573 => *трипл-смайлик-крик-мунка*\n",
      "9.049108 => +\n",
      "9.454573 => +3,49\n",
      "9.454573 => +300\n",
      "9.454573 => +5тыс\n",
      "9.454573 => +74955102933\n",
      "9.454573 => +в\n",
      "2.753227 => ,\n",
      "4.420872 => -\n",
      "8.761426 => --\n"
     ]
    }
   ],
   "source": [
    "for feature, idf in tokens_with_IDF[0:20]: print('{0:.6f} => {1}'.format(idf, feature))"
   ]
  },
  {
   "cell_type": "code",
   "execution_count": 32,
   "metadata": {},
   "outputs": [],
   "source": [
    "sorted_tokens_with_IDF = sorted(tokens_with_IDF, key=lambda it: (-it[1], it[0]))"
   ]
  },
  {
   "cell_type": "code",
   "execution_count": 33,
   "metadata": {},
   "outputs": [
    {
     "name": "stdout",
     "output_type": "stream",
     "text": [
      "9.454573 => *^____^*\n",
      "9.454573 => *бесится*\n",
      "9.454573 => *трипл-смайлик-крик-мунка*\n",
      "9.454573 => +3,49\n",
      "9.454573 => +300\n",
      "9.454573 => +5тыс\n",
      "9.454573 => +74955102933\n",
      "9.454573 => +в\n",
      "9.454573 => -4.8\n",
      "9.454573 => -5\n",
      "9.454573 => -6.4\n",
      "9.454573 => -а\n",
      "9.454573 => -круто\n",
      "9.454573 => -осуществление\n",
      "9.454573 => -подключение\n",
      "9.454573 => -привлечение\n",
      "9.454573 => -разменяйте\n",
      "9.454573 => -россельхозбанка\n",
      "9.454573 => -сами\n",
      "9.454573 => -сервис\n"
     ]
    }
   ],
   "source": [
    "for feature, idf in sorted_tokens_with_IDF[0:20]: print('{0:.6f} => {1}'.format(idf, feature))"
   ]
  },
  {
   "cell_type": "code",
   "execution_count": 34,
   "metadata": {},
   "outputs": [],
   "source": [
    "from sklearn.feature_selection import SelectPercentile, chi2"
   ]
  },
  {
   "cell_type": "code",
   "execution_count": 35,
   "metadata": {},
   "outputs": [],
   "source": [
    "selector = SelectPercentile(chi2, percentile=20)"
   ]
  },
  {
   "cell_type": "code",
   "execution_count": 36,
   "metadata": {},
   "outputs": [
    {
     "data": {
      "text/plain": [
       "SelectPercentile(percentile=20, score_func=<function chi2 at 0x7f032096c1e0>)"
      ]
     },
     "execution_count": 36,
     "metadata": {},
     "output_type": "execute_result"
    }
   ],
   "source": [
    "selector.fit(X_transformed, labels)"
   ]
  },
  {
   "cell_type": "code",
   "execution_count": 37,
   "metadata": {},
   "outputs": [],
   "source": [
    "selected_tokens_with_IDF = [tokens_with_IDF[idx] for idx in selector.get_support(indices=True)]"
   ]
  },
  {
   "cell_type": "code",
   "execution_count": 38,
   "metadata": {},
   "outputs": [
    {
     "name": "stdout",
     "output_type": "stream",
     "text": [
      "4048\n"
     ]
    }
   ],
   "source": [
    "print(len(selected_tokens_with_IDF))"
   ]
  },
  {
   "cell_type": "code",
   "execution_count": 39,
   "metadata": {},
   "outputs": [
    {
     "name": "stdout",
     "output_type": "stream",
     "text": [
      "4.417620 => !\n",
      "3.144655 => #\n",
      "5.636861 => %\n",
      "4.134005 => ''\n",
      "4.805386 => (\n",
      "4.443938 => )\n",
      "9.454573 => *^____^*\n",
      "9.049108 => +\n",
      "9.454573 => +5тыс\n",
      "2.753227 => ,\n",
      "4.420872 => -\n",
      "9.454573 => -россельхозбанка\n",
      "3.175114 => .\n",
      "7.012226 => ..\n",
      "3.784692 => ...\n",
      "9.454573 => ._\n",
      "6.070183 => /\n",
      "9.454573 => //t.co/01ftjc0bur\n",
      "9.454573 => //t.co/0gfmj3s0gi\n",
      "9.454573 => //t.co/0i4pf81ksd\n"
     ]
    }
   ],
   "source": [
    "for feature, idf in selected_tokens_with_IDF[0:20]: print('{0:.6f} => {1}'.format(idf, feature))"
   ]
  },
  {
   "cell_type": "code",
   "execution_count": 40,
   "metadata": {},
   "outputs": [],
   "source": [
    "selected_and_sorted_tokens_with_IDF = sorted(selected_tokens_with_IDF, key=lambda it: (-it[1], it[0]))"
   ]
  },
  {
   "cell_type": "code",
   "execution_count": 41,
   "metadata": {},
   "outputs": [
    {
     "name": "stdout",
     "output_type": "stream",
     "text": [
      "9.454573 => *^____^*\n",
      "9.454573 => +5тыс\n",
      "9.454573 => -россельхозбанка\n",
      "9.454573 => ._\n",
      "9.454573 => //t.co/01ftjc0bur\n",
      "9.454573 => //t.co/0gfmj3s0gi\n",
      "9.454573 => //t.co/0i4pf81ksd\n",
      "9.454573 => //t.co/0jzv0jq959\n",
      "9.454573 => //t.co/0lt5jdmk9l\n",
      "9.454573 => //t.co/0s03a0v7po\n",
      "9.454573 => //t.co/0ttwpnjnef\n",
      "9.454573 => //t.co/0vpcvumoe8\n",
      "9.454573 => //t.co/0wziwezr91\n",
      "9.454573 => //t.co/0y05qjok2q\n",
      "9.454573 => //t.co/1aa3jpbxqh\n",
      "9.454573 => //t.co/1cjshtzrda\n",
      "9.454573 => //t.co/1d3bb71qbt\n",
      "9.454573 => //t.co/1eodyxqq0a\n",
      "9.454573 => //t.co/1fxzerzsps\n",
      "9.454573 => //t.co/1kiwdyic6t\n"
     ]
    }
   ],
   "source": [
    "for feature, idf in selected_and_sorted_tokens_with_IDF[0:20]: print('{0:.6f} => {1}'.format(idf, feature))"
   ]
  },
  {
   "cell_type": "code",
   "execution_count": 42,
   "metadata": {},
   "outputs": [],
   "source": [
    "from sklearn.linear_model import LogisticRegression"
   ]
  },
  {
   "cell_type": "code",
   "execution_count": 43,
   "metadata": {},
   "outputs": [],
   "source": [
    "cls = LogisticRegression(solver='liblinear', verbose=True)"
   ]
  },
  {
   "cell_type": "code",
   "execution_count": 44,
   "metadata": {},
   "outputs": [],
   "source": [
    "X_transformed_and_selected = selector.transform(X_transformed)"
   ]
  },
  {
   "cell_type": "code",
   "execution_count": 45,
   "metadata": {},
   "outputs": [
    {
     "name": "stdout",
     "output_type": "stream",
     "text": [
      "[LibLinear]"
     ]
    },
    {
     "name": "stderr",
     "output_type": "stream",
     "text": [
      "/home/user/python_environments/tensorflow_env/lib/python3.6/site-packages/sklearn/linear_model/logistic.py:469: FutureWarning: Default multi_class will be changed to 'auto' in 0.22. Specify the multi_class option to silence this warning.\n",
      "  \"this warning.\", FutureWarning)\n"
     ]
    },
    {
     "data": {
      "text/plain": [
       "LogisticRegression(C=1.0, class_weight=None, dual=False, fit_intercept=True,\n",
       "                   intercept_scaling=1, l1_ratio=None, max_iter=100,\n",
       "                   multi_class='warn', n_jobs=None, penalty='l2',\n",
       "                   random_state=None, solver='liblinear', tol=0.0001,\n",
       "                   verbose=True, warm_start=False)"
      ]
     },
     "execution_count": 45,
     "metadata": {},
     "output_type": "execute_result"
    }
   ],
   "source": [
    "cls.fit(X_transformed_and_selected, labels)"
   ]
  },
  {
   "cell_type": "code",
   "execution_count": 46,
   "metadata": {},
   "outputs": [],
   "source": [
    "classes_list = list(cls.classes_)"
   ]
  },
  {
   "cell_type": "code",
   "execution_count": 47,
   "metadata": {},
   "outputs": [
    {
     "name": "stdout",
     "output_type": "stream",
     "text": [
      "['negative', 'neutral', 'positive']\n"
     ]
    }
   ],
   "source": [
    "print(classes_list)"
   ]
  },
  {
   "cell_type": "code",
   "execution_count": 48,
   "metadata": {},
   "outputs": [],
   "source": [
    "texts_for_testing, labels_for_testing = load_sentirueval_2016('banks_test_etalon.xml')"
   ]
  },
  {
   "cell_type": "code",
   "execution_count": 49,
   "metadata": {},
   "outputs": [],
   "source": [
    "from sklearn.pipeline import Pipeline"
   ]
  },
  {
   "cell_type": "code",
   "execution_count": 50,
   "metadata": {},
   "outputs": [],
   "source": [
    "pipeline_for_se = Pipeline(\n",
    "    [\n",
    "        ('vectorizer', vectorizer),\n",
    "        ('tfidf', transformer),\n",
    "        ('selector', selector),\n",
    "        ('final_classifier', cls)\n",
    "    ]\n",
    ")"
   ]
  },
  {
   "cell_type": "code",
   "execution_count": 51,
   "metadata": {},
   "outputs": [],
   "source": [
    "from sklearn.metrics import roc_curve\n",
    "import numpy as np"
   ]
  },
  {
   "cell_type": "code",
   "execution_count": 52,
   "metadata": {},
   "outputs": [],
   "source": [
    "probabilities = pipeline_for_se.predict_proba(texts_for_testing)"
   ]
  },
  {
   "cell_type": "code",
   "execution_count": 53,
   "metadata": {},
   "outputs": [],
   "source": [
    "y_true_positives = list(map(lambda it: 1 if it == 'positive' else 0, labels_for_testing))\n",
    "y_score_positives = probabilities[:, classes_list.index('positive')]"
   ]
  },
  {
   "cell_type": "code",
   "execution_count": 54,
   "metadata": {},
   "outputs": [],
   "source": [
    "fpr_positives, tpr_positives, _, = roc_curve(y_true_positives, y_score_positives)"
   ]
  },
  {
   "cell_type": "code",
   "execution_count": 55,
   "metadata": {},
   "outputs": [],
   "source": [
    "y_true_negatives = list(map(lambda it: 1 if it == 'negative' else 0, labels_for_testing))\n",
    "y_score_negatives = probabilities[:, classes_list.index('negative')]\n",
    "fpr_negatives, tpr_negatives, _, = roc_curve(y_true_negatives, y_score_negatives)"
   ]
  },
  {
   "cell_type": "code",
   "execution_count": 56,
   "metadata": {},
   "outputs": [],
   "source": [
    "y_true_neutrals = list(map(lambda it: 1 if it == 'neutral' else 0, labels_for_testing))\n",
    "y_score_neutrals = probabilities[:, classes_list.index('neutral')]\n",
    "fpr_neutrals, tpr_neutrals, _, = roc_curve(y_true_neutrals, y_score_neutrals)"
   ]
  },
  {
   "cell_type": "code",
   "execution_count": 57,
   "metadata": {},
   "outputs": [
    {
     "data": {
      "text/plain": [
       "<Figure size 640x480 with 1 Axes>"
      ]
     },
     "metadata": {},
     "output_type": "display_data"
    }
   ],
   "source": [
    "import matplotlib.pyplot as plt\n",
    "plt.figure(1)\n",
    "plt.plot([0, 1], [0, 1], 'k--')\n",
    "plt.plot(fpr_positives, tpr_positives, label='Positive Sentiment')\n",
    "plt.plot(fpr_negatives, tpr_negatives, label='Negative Sentiment')\n",
    "plt.plot(fpr_neutrals, tpr_neutrals, label='Neutral Sentiment')\n",
    "plt.xlabel('False positive rate')\n",
    "plt.ylabel('True positive rate')\n",
    "plt.title('ROC curve')\n",
    "plt.legend(loc='best')\n",
    "plt.show()"
   ]
  },
  {
   "cell_type": "code",
   "execution_count": 58,
   "metadata": {},
   "outputs": [
    {
     "name": "stdout",
     "output_type": "stream",
     "text": [
      "F1-micro = 0.728343\n",
      "F1-macro = 0.498939\n"
     ]
    }
   ],
   "source": [
    "from sklearn.metrics import f1_score\n",
    "predicted_labels = pipeline_for_se.predict(texts_for_testing)\n",
    "print('F1-micro = {0:.6f}'.format(f1_score(labels_for_testing, predicted_labels, average='micro')))\n",
    "print('F1-macro = {0:.6f}'.format(f1_score(labels_for_testing, predicted_labels, average='macro')))"
   ]
  },
  {
   "cell_type": "code",
   "execution_count": 59,
   "metadata": {},
   "outputs": [
    {
     "name": "stdout",
     "output_type": "stream",
     "text": [
      "              precision    recall  f1-score   support\n",
      "\n",
      "    negative   0.585219  0.505867  0.542657       767\n",
      "     neutral   0.765380  0.894996  0.825129      2238\n",
      "    positive   0.666667  0.071429  0.129032       308\n",
      "\n",
      "    accuracy                       0.728343      3313\n",
      "   macro avg   0.672422  0.490764  0.498939      3313\n",
      "weighted avg   0.714494  0.728343  0.695019      3313\n",
      "\n"
     ]
    }
   ],
   "source": [
    "from sklearn.metrics import classification_report\n",
    "print(classification_report(labels_for_testing, predicted_labels, digits=6))"
   ]
  },
  {
   "cell_type": "code",
   "execution_count": 60,
   "metadata": {},
   "outputs": [],
   "source": [
    "from sklearn.model_selection import GridSearchCV\n",
    "from sklearn.metrics import make_scorer\n",
    "f1_macro_scorer = make_scorer(f1_score, average='macro')\n",
    "cv = GridSearchCV(\n",
    "    estimator=LogisticRegression(solver='liblinear'),\n",
    "    param_grid={'C': [1e-2, 1e-1, 1, 1e+1, 1e+2, 1e+3], 'penalty': ['l1', 'l2']},\n",
    "    scoring=f1_macro_scorer,\n",
    "    n_jobs=-1\n",
    ")"
   ]
  },
  {
   "cell_type": "code",
   "execution_count": 61,
   "metadata": {},
   "outputs": [
    {
     "name": "stderr",
     "output_type": "stream",
     "text": [
      "/home/user/python_environments/tensorflow_env/lib/python3.6/site-packages/sklearn/model_selection/_split.py:1978: FutureWarning: The default value of cv will change from 3 to 5 in version 0.22. Specify it explicitly to silence this warning.\n",
      "  warnings.warn(CV_WARNING, FutureWarning)\n",
      "/home/user/python_environments/tensorflow_env/lib/python3.6/site-packages/sklearn/linear_model/logistic.py:469: FutureWarning: Default multi_class will be changed to 'auto' in 0.22. Specify the multi_class option to silence this warning.\n",
      "  \"this warning.\", FutureWarning)\n"
     ]
    },
    {
     "data": {
      "text/plain": [
       "GridSearchCV(cv='warn', error_score='raise-deprecating',\n",
       "             estimator=LogisticRegression(C=1.0, class_weight=None, dual=False,\n",
       "                                          fit_intercept=True,\n",
       "                                          intercept_scaling=1, l1_ratio=None,\n",
       "                                          max_iter=100, multi_class='warn',\n",
       "                                          n_jobs=None, penalty='l2',\n",
       "                                          random_state=None, solver='liblinear',\n",
       "                                          tol=0.0001, verbose=0,\n",
       "                                          warm_start=False),\n",
       "             iid='warn', n_jobs=-1,\n",
       "             param_grid={'C': [0.01, 0.1, 1, 10.0, 100.0, 1000.0],\n",
       "                         'penalty': ['l1', 'l2']},\n",
       "             pre_dispatch='2*n_jobs', refit=True, return_train_score=False,\n",
       "             scoring=make_scorer(f1_score, average=macro), verbose=0)"
      ]
     },
     "execution_count": 61,
     "metadata": {},
     "output_type": "execute_result"
    }
   ],
   "source": [
    "cv.fit(X_transformed_and_selected, labels)"
   ]
  },
  {
   "cell_type": "code",
   "execution_count": 62,
   "metadata": {},
   "outputs": [
    {
     "name": "stdout",
     "output_type": "stream",
     "text": [
      "{'C': 10.0, 'penalty': 'l1'}\n"
     ]
    }
   ],
   "source": [
    "print(cv.best_params_)"
   ]
  },
  {
   "cell_type": "code",
   "execution_count": 63,
   "metadata": {},
   "outputs": [
    {
     "name": "stdout",
     "output_type": "stream",
     "text": [
      "[LibLinear]"
     ]
    },
    {
     "data": {
      "text/plain": [
       "LogisticRegression(C=10.0, class_weight=None, dual=False, fit_intercept=True,\n",
       "                   intercept_scaling=1, l1_ratio=None, max_iter=100,\n",
       "                   multi_class='warn', n_jobs=None, penalty='l1',\n",
       "                   random_state=None, solver='liblinear', tol=0.0001,\n",
       "                   verbose=True, warm_start=False)"
      ]
     },
     "execution_count": 63,
     "metadata": {},
     "output_type": "execute_result"
    }
   ],
   "source": [
    "best_cls = LogisticRegression(solver='liblinear', verbose=True, C=10.0, penalty='l1')\n",
    "best_cls.fit(X_transformed_and_selected, labels)"
   ]
  },
  {
   "cell_type": "code",
   "execution_count": 64,
   "metadata": {},
   "outputs": [],
   "source": [
    "best_pipeline_for_se = Pipeline(\n",
    "    [\n",
    "        ('vectorizer', vectorizer),\n",
    "        ('tfidf', transformer),\n",
    "        ('selector', selector),\n",
    "        ('final_classifier', best_cls)\n",
    "    ]\n",
    ")"
   ]
  },
  {
   "cell_type": "code",
   "execution_count": 65,
   "metadata": {},
   "outputs": [],
   "source": [
    "probabilities = best_pipeline_for_se.predict_proba(texts_for_testing)\n",
    "\n",
    "y_true_positives = list(map(lambda it: 1 if it == 'positive' else 0, labels_for_testing))\n",
    "y_score_positives = probabilities[:, classes_list.index('positive')]\n",
    "fpr_positives, tpr_positives, _, = roc_curve(y_true_positives, y_score_positives)\n",
    "\n",
    "y_true_negatives = list(map(lambda it: 1 if it == 'negative' else 0, labels_for_testing))\n",
    "y_score_negatives = probabilities[:, classes_list.index('negative')]\n",
    "fpr_negatives, tpr_negatives, _, = roc_curve(y_true_negatives, y_score_negatives)\n",
    "\n",
    "y_true_neutrals = list(map(lambda it: 1 if it == 'neutral' else 0, labels_for_testing))\n",
    "y_score_neutrals = probabilities[:, classes_list.index('neutral')]\n",
    "fpr_neutrals, tpr_neutrals, _, = roc_curve(y_true_neutrals, y_score_neutrals)"
   ]
  },
  {
   "cell_type": "code",
   "execution_count": 66,
   "metadata": {},
   "outputs": [
    {
     "data": {
      "image/png": "[encoded data removed]",
      "text/plain": [
       "<Figure size 432x288 with 1 Axes>"
      ]
     },
     "metadata": {
      "needs_background": "light"
     },
     "output_type": "display_data"
    }
   ],
   "source": [
    "import matplotlib.pyplot as plt\n",
    "plt.figure(2)\n",
    "plt.plot([0, 1], [0, 1], 'k--')\n",
    "plt.plot(fpr_positives, tpr_positives, label='Positive Sentiment')\n",
    "plt.plot(fpr_negatives, tpr_negatives, label='Negative Sentiment')\n",
    "plt.plot(fpr_neutrals, tpr_neutrals, label='Neutral Sentiment')\n",
    "plt.xlabel('False positive rate')\n",
    "plt.ylabel('True positive rate')\n",
    "plt.title('ROC curve')\n",
    "plt.legend(loc='best')\n",
    "plt.show()"
   ]
  },
  {
   "cell_type": "code",
   "execution_count": 67,
   "metadata": {},
   "outputs": [
    {
     "name": "stdout",
     "output_type": "stream",
     "text": [
      "F1-micro = 0.722306\n",
      "F1-macro = 0.584276\n"
     ]
    }
   ],
   "source": [
    "predicted_labels = best_pipeline_for_se.predict(texts_for_testing)\n",
    "print('F1-micro = {0:.6f}'.format(f1_score(labels_for_testing, predicted_labels, average='micro')))\n",
    "print('F1-macro = {0:.6f}'.format(f1_score(labels_for_testing, predicted_labels, average='macro')))"
   ]
  },
  {
   "cell_type": "code",
   "execution_count": 68,
   "metadata": {},
   "outputs": [
    {
     "name": "stdout",
     "output_type": "stream",
     "text": [
      "              precision    recall  f1-score   support\n",
      "\n",
      "    negative   0.580913  0.547588  0.563758       767\n",
      "     neutral   0.797101  0.835567  0.815881      2238\n",
      "    positive   0.422131  0.334416  0.373188       308\n",
      "\n",
      "    accuracy                       0.722306      3313\n",
      "   macro avg   0.600048  0.572524  0.584276      3313\n",
      "weighted avg   0.712191  0.722306  0.716356      3313\n",
      "\n"
     ]
    }
   ],
   "source": [
    "print(classification_report(labels_for_testing, predicted_labels, digits=6))"
   ]
  },
  {
   "cell_type": "code",
   "execution_count": null,
   "metadata": {},
   "outputs": [],
   "source": []
  }
 ],
 "metadata": {
  "kernelspec": {
   "display_name": "Python 3",
   "language": "python",
   "name": "python3"
  },
  "language_info": {
   "codemirror_mode": {
    "name": "ipython",
    "version": 3
   },
   "file_extension": ".py",
   "mimetype": "text/x-python",
   "name": "python",
   "nbconvert_exporter": "python",
   "pygments_lexer": "ipython3",
   "version": "3.6.9"
  }
 },
 "nbformat": 4,
 "nbformat_minor": 2
}
